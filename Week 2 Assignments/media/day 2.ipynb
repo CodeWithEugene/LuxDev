{
 "cells": [
  {
   "cell_type": "code",
   "execution_count": 7,
   "metadata": {},
   "outputs": [
    {
     "name": "stdout",
     "output_type": "stream",
     "text": [
      "Absolute Deviation Mean with list comprehension: 2.5\n"
     ]
    }
   ],
   "source": [
    "\n",
    "# Get the absolute deviation mean using a for loop and a function\n",
    "\n",
    "# my of numbers\n",
    "numbers = [1, 2, 3, 4, 5, 6, 7, 8, 9, 10]\n",
    "\n",
    "# the function to calculate the absolute deviation mean\n",
    "def calc_adm(numbers):\n",
    "    mean = sum(numbers) / len(numbers)  # calculating the mean\n",
    "    adm = sum([abs(x - mean) for x in numbers]) / len(numbers)  # calculating the absolute deviation mean\n",
    "    return adm\n",
    "\n",
    "# Calculate the absolute deviation mean\n",
    "adm_result = calc_adm(numbers)\n",
    "print(f\"Absolute Deviation Mean with list comprehension: {adm_result}\")"
   ]
  },
  {
   "cell_type": "code",
   "execution_count": 9,
   "metadata": {},
   "outputs": [
    {
     "name": "stdout",
     "output_type": "stream",
     "text": [
      "{25: 3.25, 50: 5.5, 75: 7.75}\n"
     ]
    }
   ],
   "source": [
    "def calculate_percentile(data, percentile):\n",
    "    size = len(data)\n",
    "    sorted_data = sorted(data)\n",
    "    index = (size - 1) * percentile / 100.0\n",
    "    if index.is_integer():\n",
    "        return sorted_data[int(index)]\n",
    "    else:\n",
    "        lower = sorted_data[int(index)]\n",
    "        upper = sorted_data[int(index) + 1]\n",
    "        return lower + (upper - lower) * (index - int(index))\n",
    "\n",
    "\n",
    "# List of numbers\n",
    "my_list = [1, 2, 3, 4, 5, 6, 7, 8, 9, 10]\n",
    "\n",
    "# Example usage\n",
    "percentiles = [25, 50, 75]\n",
    "percentile_values = {p: calculate_percentile(my_list, p) for p in percentiles}\n",
    "print(percentile_values)"
   ]
  },
  {
   "cell_type": "code",
   "execution_count": 10,
   "metadata": {},
   "outputs": [
    {
     "name": "stdout",
     "output_type": "stream",
     "text": [
      "The Zen of Python, by Tim Peters\n",
      "\n",
      "Beautiful is better than ugly.\n",
      "Explicit is better than implicit.\n",
      "Simple is better than complex.\n",
      "Complex is better than complicated.\n",
      "Flat is better than nested.\n",
      "Sparse is better than dense.\n",
      "Readability counts.\n",
      "Special cases aren't special enough to break the rules.\n",
      "Although practicality beats purity.\n",
      "Errors should never pass silently.\n",
      "Unless explicitly silenced.\n",
      "In the face of ambiguity, refuse the temptation to guess.\n",
      "There should be one-- and preferably only one --obvious way to do it.\n",
      "Although that way may not be obvious at first unless you're Dutch.\n",
      "Now is better than never.\n",
      "Although never is often better than *right* now.\n",
      "If the implementation is hard to explain, it's a bad idea.\n",
      "If the implementation is easy to explain, it may be a good idea.\n",
      "Namespaces are one honking great idea -- let's do more of those!\n"
     ]
    }
   ],
   "source": [
    "import this\n",
    "\n"
   ]
  },
  {
   "cell_type": "code",
   "execution_count": 11,
   "metadata": {},
   "outputs": [],
   "source": [
    "import matplotlib.pyplot as plt"
   ]
  },
  {
   "cell_type": "code",
   "execution_count": 12,
   "metadata": {},
   "outputs": [],
   "source": [
    "text = 'Hello World'\n",
    "shift = 3\n",
    "alphabet = 'abcdefghijklmnopqrstuvwxyz'\n",
    "positton=alphabet.find('text[0]')"
   ]
  },
  {
   "cell_type": "code",
   "execution_count": 13,
   "metadata": {},
   "outputs": [
    {
     "name": "stdout",
     "output_type": "stream",
     "text": [
      "Original letter: H\n",
      "Shifted letter: k\n"
     ]
    }
   ],
   "source": [
    "# Step 1: Initialize the text, shift value, and alphabet\n",
    "text = 'Hello World'\n",
    "shift = 3\n",
    "alphabet = 'abcdefghijklmnopqrstuvwxyz'\n",
    "\n",
    "# Step 2: Find the position of the first letter in the alphabet\n",
    "position = alphabet.find(text[0].lower())  # Convert to lowercase to match the alphabet\n",
    "\n",
    "# Step 3: Shift the letter by the specified number of positions\n",
    "new_position = (position + shift) % len(alphabet)\n",
    "\n",
    "# Step 4: Replace the original letter with the new letter\n",
    "new_letter = alphabet[new_position]\n",
    "\n",
    "# Output the result\n",
    "print(f\"Original letter: {text[0]}\")\n",
    "print(f\"Shifted letter: {new_letter}\")\n"
   ]
  },
  {
   "cell_type": "code",
   "execution_count": null,
   "metadata": {},
   "outputs": [],
   "source": []
  },
  {
   "cell_type": "code",
   "execution_count": null,
   "metadata": {},
   "outputs": [],
   "source": [
    "# Initialize the text, shift value, and alphabet\n",
    "text = 'Hello World'\n",
    "shift = 3\n",
    "alphabet = 'abcdefghijklmnopqrstuvwxyz'\n",
    "\n",
    "# Function to apply Caesar cipher\n",
    "def caesar_cipher(text, shift, alphabet):\n",
    "    result = ''\n",
    "    for char in text:\n",
    "        if char.lower() in alphabet:\n",
    "            position = alphabet.find(char.lower())\n",
    "            new_position = (position + shift) % len(alphabet)\n",
    "            new_char = alphabet[new_position]\n",
    "            if char.isupper():\n",
    "                new_char = new_char.upper()\n",
    "            result += new_char\n",
    "        else:\n",
    "            result += char\n",
    "    return result\n",
    "\n",
    "# Apply the Caesar cipher\n",
    "cipher_text = caesar_cipher(text, shift, alphabet)\n",
    "print(f\"Original text: {text}\")\n",
    "print(f\"Cipher text: {cipher_text}\")"
   ]
  }
 ],
 "metadata": {
  "kernelspec": {
   "display_name": ".venv",
   "language": "python",
   "name": "python3"
  },
  "language_info": {
   "codemirror_mode": {
    "name": "ipython",
    "version": 3
   },
   "file_extension": ".py",
   "mimetype": "text/x-python",
   "name": "python",
   "nbconvert_exporter": "python",
   "pygments_lexer": "ipython3",
   "version": "3.12.8"
  }
 },
 "nbformat": 4,
 "nbformat_minor": 2
}
